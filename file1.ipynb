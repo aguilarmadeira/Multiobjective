{
  "nbformat": 4,
  "nbformat_minor": 0,
  "metadata": {
    "colab": {
      "provenance": [],
      "authorship_tag": "ABX9TyORrGq6Xo0iKccL73tjgq7Z",
      "include_colab_link": true
    },
    "kernelspec": {
      "name": "python3",
      "display_name": "Python 3"
    },
    "language_info": {
      "name": "python"
    }
  },
  "cells": [
    {
      "cell_type": "markdown",
      "metadata": {
        "id": "view-in-github",
        "colab_type": "text"
      },
      "source": [
        "<a href=\"https://colab.research.google.com/github/aguilarmadeira/Multiobjective/blob/main/file1.ipynb\" target=\"_parent\"><img src=\"https://colab.research.google.com/assets/colab-badge.svg\" alt=\"Open In Colab\"/></a>"
      ]
    },
    {
      "cell_type": "markdown",
      "source": [
        "**Teste 1**"
      ],
      "metadata": {
        "id": "gDC719xdw53v"
      }
    },
    {
      "cell_type": "code",
      "source": [
        "!pip install pyomo"
      ],
      "metadata": {
        "id": "RApPqzVY0M_T",
        "outputId": "b245651c-b302-489f-8be5-4946686c2757",
        "colab": {
          "base_uri": "https://localhost:8080/"
        }
      },
      "execution_count": 31,
      "outputs": [
        {
          "output_type": "stream",
          "name": "stdout",
          "text": [
            "Requirement already satisfied: pyomo in /usr/local/lib/python3.10/dist-packages (6.7.1)\n",
            "Requirement already satisfied: ply in /usr/local/lib/python3.10/dist-packages (from pyomo) (3.11)\n"
          ]
        }
      ]
    },
    {
      "cell_type": "code",
      "execution_count": 32,
      "metadata": {
        "id": "blxU613Bw2Dg"
      },
      "outputs": [],
      "source": [
        "import pyomo.environ as pyo\n",
        "from pyomo.environ import *\n",
        "from pyomo.opt import SolverFactory"
      ]
    },
    {
      "cell_type": "markdown",
      "source": [
        "segundo texto"
      ],
      "metadata": {
        "id": "O3XZTzNc2yt4"
      }
    },
    {
      "cell_type": "code",
      "source": [
        "model = pyo.ConcreteModel()"
      ],
      "metadata": {
        "id": "EoST_ddb22XA"
      },
      "execution_count": 33,
      "outputs": []
    },
    {
      "cell_type": "code",
      "source": [
        "model.x = pyo.Var(within=Integers, bounds=(0,10))\n",
        "model.y = pyo.Var(bounds=(0,10))\n",
        "x = model.x\n",
        "y = model.y"
      ],
      "metadata": {
        "id": "SpLekNnJ0cdV"
      },
      "execution_count": 34,
      "outputs": []
    },
    {
      "cell_type": "code",
      "source": [
        "model.C1 = pyo.Constraint(expr= -x+2*y<=7)\n",
        "model.C2 = pyo.Constraint(expr= 2*x+y<=14)\n",
        "model.C3 = pyo.Constraint(expr= 2*x-y<=10)"
      ],
      "metadata": {
        "id": "2pUBcF7B0gKh"
      },
      "execution_count": 35,
      "outputs": []
    },
    {
      "cell_type": "code",
      "source": [
        "model.obj = pyo.Objective(expr= x+y, sense=maximize)"
      ],
      "metadata": {
        "id": "BnIMaITt0j6w"
      },
      "execution_count": 36,
      "outputs": []
    },
    {
      "cell_type": "code",
      "source": [
        "!apt-get install -y glpk-utils\n",
        "\n"
      ],
      "metadata": {
        "id": "kXiQxgbR2vQL",
        "outputId": "debe08e9-1ee2-4dd5-efc0-dccadb327d3d",
        "colab": {
          "base_uri": "https://localhost:8080/"
        }
      },
      "execution_count": 37,
      "outputs": [
        {
          "output_type": "stream",
          "name": "stdout",
          "text": [
            "Reading package lists... Done\n",
            "Building dependency tree... Done\n",
            "Reading state information... Done\n",
            "glpk-utils is already the newest version (5.0-1).\n",
            "0 upgraded, 0 newly installed, 0 to remove and 45 not upgraded.\n"
          ]
        }
      ]
    },
    {
      "cell_type": "code",
      "source": [
        "opt = SolverFactory('glpk')"
      ],
      "metadata": {
        "id": "6aRfedKA3baf"
      },
      "execution_count": 38,
      "outputs": []
    },
    {
      "cell_type": "code",
      "source": [
        "model.pprint()"
      ],
      "metadata": {
        "id": "xx45FU8n28Z3",
        "outputId": "97a0fabc-2651-4837-f18a-27f202d173a3",
        "colab": {
          "base_uri": "https://localhost:8080/"
        }
      },
      "execution_count": 39,
      "outputs": [
        {
          "output_type": "stream",
          "name": "stdout",
          "text": [
            "2 Var Declarations\n",
            "    x : Size=1, Index=None\n",
            "        Key  : Lower : Value : Upper : Fixed : Stale : Domain\n",
            "        None :     0 :  None :    10 : False :  True : Integers\n",
            "    y : Size=1, Index=None\n",
            "        Key  : Lower : Value : Upper : Fixed : Stale : Domain\n",
            "        None :     0 :  None :    10 : False :  True :  Reals\n",
            "\n",
            "1 Objective Declarations\n",
            "    obj : Size=1, Index=None, Active=True\n",
            "        Key  : Active : Sense    : Expression\n",
            "        None :   True : maximize : x + y\n",
            "\n",
            "3 Constraint Declarations\n",
            "    C1 : Size=1, Index=None, Active=True\n",
            "        Key  : Lower : Body      : Upper : Active\n",
            "        None :  -Inf : - x + 2*y :   7.0 :   True\n",
            "    C2 : Size=1, Index=None, Active=True\n",
            "        Key  : Lower : Body    : Upper : Active\n",
            "        None :  -Inf : 2*x + y :  14.0 :   True\n",
            "    C3 : Size=1, Index=None, Active=True\n",
            "        Key  : Lower : Body    : Upper : Active\n",
            "        None :  -Inf : 2*x - y :  10.0 :   True\n",
            "\n",
            "6 Declarations: x y C1 C2 C3 obj\n"
          ]
        }
      ]
    },
    {
      "cell_type": "code",
      "source": [
        "x_value = pyo.value(x)\n",
        "y_value = pyo.value(y)\n"
      ],
      "metadata": {
        "id": "VQpYqYkD3ArL",
        "outputId": "54ddca16-60cd-470d-c98c-72379f2f770e",
        "colab": {
          "base_uri": "https://localhost:8080/",
          "height": 332
        }
      },
      "execution_count": 40,
      "outputs": [
        {
          "output_type": "stream",
          "name": "stderr",
          "text": [
            "ERROR:pyomo.common.numeric_types:evaluating object as numeric value: x\n",
            "    (object: <class 'pyomo.core.base.var.ScalarVar'>)\n",
            "No value for uninitialized NumericValue object x\n"
          ]
        },
        {
          "output_type": "error",
          "ename": "ValueError",
          "evalue": "No value for uninitialized NumericValue object x",
          "traceback": [
            "\u001b[0;31m---------------------------------------------------------------------------\u001b[0m",
            "\u001b[0;31mValueError\u001b[0m                                Traceback (most recent call last)",
            "\u001b[0;32m<ipython-input-40-96a87d0ae5cb>\u001b[0m in \u001b[0;36m<cell line: 1>\u001b[0;34m()\u001b[0m\n\u001b[0;32m----> 1\u001b[0;31m \u001b[0mx_value\u001b[0m \u001b[0;34m=\u001b[0m \u001b[0mpyo\u001b[0m\u001b[0;34m.\u001b[0m\u001b[0mvalue\u001b[0m\u001b[0;34m(\u001b[0m\u001b[0mx\u001b[0m\u001b[0;34m)\u001b[0m\u001b[0;34m\u001b[0m\u001b[0;34m\u001b[0m\u001b[0m\n\u001b[0m\u001b[1;32m      2\u001b[0m \u001b[0my_value\u001b[0m \u001b[0;34m=\u001b[0m \u001b[0mpyo\u001b[0m\u001b[0;34m.\u001b[0m\u001b[0mvalue\u001b[0m\u001b[0;34m(\u001b[0m\u001b[0my\u001b[0m\u001b[0;34m)\u001b[0m\u001b[0;34m\u001b[0m\u001b[0;34m\u001b[0m\u001b[0m\n",
            "\u001b[0;32m/usr/local/lib/python3.10/dist-packages/pyomo/common/numeric_types.py\u001b[0m in \u001b[0;36mvalue\u001b[0;34m(obj, exception)\u001b[0m\n\u001b[1;32m    316\u001b[0m             \u001b[0mtmp\u001b[0m \u001b[0;34m=\u001b[0m \u001b[0mobj\u001b[0m\u001b[0;34m(\u001b[0m\u001b[0mexception\u001b[0m\u001b[0;34m=\u001b[0m\u001b[0;32mTrue\u001b[0m\u001b[0;34m)\u001b[0m\u001b[0;34m\u001b[0m\u001b[0;34m\u001b[0m\u001b[0m\n\u001b[1;32m    317\u001b[0m             \u001b[0;32mif\u001b[0m \u001b[0mtmp\u001b[0m \u001b[0;32mis\u001b[0m \u001b[0;32mNone\u001b[0m\u001b[0;34m:\u001b[0m\u001b[0;34m\u001b[0m\u001b[0;34m\u001b[0m\u001b[0m\n\u001b[0;32m--> 318\u001b[0;31m                 raise ValueError(\n\u001b[0m\u001b[1;32m    319\u001b[0m                     \u001b[0;34m\"No value for uninitialized NumericValue object %s\"\u001b[0m \u001b[0;34m%\u001b[0m \u001b[0;34m(\u001b[0m\u001b[0mobj\u001b[0m\u001b[0;34m.\u001b[0m\u001b[0mname\u001b[0m\u001b[0;34m,\u001b[0m\u001b[0;34m)\u001b[0m\u001b[0;34m\u001b[0m\u001b[0;34m\u001b[0m\u001b[0m\n\u001b[1;32m    320\u001b[0m                 )\n",
            "\u001b[0;31mValueError\u001b[0m: No value for uninitialized NumericValue object x"
          ]
        }
      ]
    },
    {
      "cell_type": "code",
      "source": [
        "print('\\n---------------------------------------------------------------------')\n",
        "print('x=',x_value)\n",
        "print('y=',y_value)"
      ],
      "metadata": {
        "id": "FPRGU1dK3McA"
      },
      "execution_count": null,
      "outputs": []
    },
    {
      "cell_type": "code",
      "source": [
        "results = opt.solve(model)"
      ],
      "metadata": {
        "id": "EJ3UlcNA3y9k"
      },
      "execution_count": 41,
      "outputs": []
    },
    {
      "cell_type": "code",
      "source": [
        "print(results)"
      ],
      "metadata": {
        "id": "Efyd582R34AN",
        "outputId": "dac3401d-05bc-4a3c-beab-fa6c0d73ea3a",
        "colab": {
          "base_uri": "https://localhost:8080/"
        }
      },
      "execution_count": 42,
      "outputs": [
        {
          "output_type": "stream",
          "name": "stdout",
          "text": [
            "\n",
            "Problem: \n",
            "- Name: unknown\n",
            "  Lower bound: 9.5\n",
            "  Upper bound: 9.5\n",
            "  Number of objectives: 1\n",
            "  Number of constraints: 3\n",
            "  Number of variables: 2\n",
            "  Number of nonzeros: 6\n",
            "  Sense: maximize\n",
            "Solver: \n",
            "- Status: ok\n",
            "  Termination condition: optimal\n",
            "  Statistics: \n",
            "    Branch and bound: \n",
            "      Number of bounded subproblems: 3\n",
            "      Number of created subproblems: 3\n",
            "  Error rc: 0\n",
            "  Time: 0.005336284637451172\n",
            "Solution: \n",
            "- number of solutions: 0\n",
            "  number of solutions displayed: 0\n",
            "\n"
          ]
        }
      ]
    },
    {
      "cell_type": "markdown",
      "source": [
        "terceiro texto"
      ],
      "metadata": {
        "id": "0oyZtedK5bTp"
      }
    },
    {
      "cell_type": "code",
      "source": [
        "opt = SolverFactory('gurobi')"
      ],
      "metadata": {
        "id": "qS1I3jgM5gAO"
      },
      "execution_count": 43,
      "outputs": []
    },
    {
      "cell_type": "code",
      "source": [
        "opt.solve(model)"
      ],
      "metadata": {
        "id": "rnnJb5dq5SKZ",
        "outputId": "0f03c31b-aa30-4093-b9a1-538c8e56625f",
        "colab": {
          "base_uri": "https://localhost:8080/",
          "height": 304
        }
      },
      "execution_count": 44,
      "outputs": [
        {
          "output_type": "stream",
          "name": "stderr",
          "text": [
            "WARNING:pyomo.solvers:Could not locate the 'gurobi' executable, which is required for solver gurobi\n"
          ]
        },
        {
          "output_type": "error",
          "ename": "ApplicationError",
          "evalue": "No executable found for solver 'gurobi'",
          "traceback": [
            "\u001b[0;31m---------------------------------------------------------------------------\u001b[0m",
            "\u001b[0;31mApplicationError\u001b[0m                          Traceback (most recent call last)",
            "\u001b[0;32m<ipython-input-44-c0a0cdb427e2>\u001b[0m in \u001b[0;36m<cell line: 1>\u001b[0;34m()\u001b[0m\n\u001b[0;32m----> 1\u001b[0;31m \u001b[0mopt\u001b[0m\u001b[0;34m.\u001b[0m\u001b[0msolve\u001b[0m\u001b[0;34m(\u001b[0m\u001b[0mmodel\u001b[0m\u001b[0;34m)\u001b[0m\u001b[0;34m\u001b[0m\u001b[0;34m\u001b[0m\u001b[0m\n\u001b[0m",
            "\u001b[0;32m/usr/local/lib/python3.10/dist-packages/pyomo/opt/base/solvers.py\u001b[0m in \u001b[0;36msolve\u001b[0;34m(self, *args, **kwds)\u001b[0m\n\u001b[1;32m    532\u001b[0m         \u001b[0;34m\"\"\"Solve the problem\"\"\"\u001b[0m\u001b[0;34m\u001b[0m\u001b[0;34m\u001b[0m\u001b[0m\n\u001b[1;32m    533\u001b[0m \u001b[0;34m\u001b[0m\u001b[0m\n\u001b[0;32m--> 534\u001b[0;31m         \u001b[0mself\u001b[0m\u001b[0;34m.\u001b[0m\u001b[0mavailable\u001b[0m\u001b[0;34m(\u001b[0m\u001b[0mexception_flag\u001b[0m\u001b[0;34m=\u001b[0m\u001b[0;32mTrue\u001b[0m\u001b[0;34m)\u001b[0m\u001b[0;34m\u001b[0m\u001b[0;34m\u001b[0m\u001b[0m\n\u001b[0m\u001b[1;32m    535\u001b[0m         \u001b[0;31m#\u001b[0m\u001b[0;34m\u001b[0m\u001b[0;34m\u001b[0m\u001b[0m\n\u001b[1;32m    536\u001b[0m         \u001b[0;31m# If the inputs are models, then validate that they have been\u001b[0m\u001b[0;34m\u001b[0m\u001b[0;34m\u001b[0m\u001b[0m\n",
            "\u001b[0;32m/usr/local/lib/python3.10/dist-packages/pyomo/opt/solver/ilmcmd.py\u001b[0m in \u001b[0;36mavailable\u001b[0;34m(self, exception_flag)\u001b[0m\n\u001b[1;32m     33\u001b[0m         \u001b[0;32mif\u001b[0m \u001b[0mself\u001b[0m\u001b[0;34m.\u001b[0m\u001b[0m_assert_available\u001b[0m\u001b[0;34m:\u001b[0m\u001b[0;34m\u001b[0m\u001b[0;34m\u001b[0m\u001b[0m\n\u001b[1;32m     34\u001b[0m             \u001b[0;32mreturn\u001b[0m \u001b[0;32mTrue\u001b[0m\u001b[0;34m\u001b[0m\u001b[0;34m\u001b[0m\u001b[0m\n\u001b[0;32m---> 35\u001b[0;31m         if not pyomo.opt.solver.shellcmd.SystemCallSolver.available(\n\u001b[0m\u001b[1;32m     36\u001b[0m             \u001b[0mself\u001b[0m\u001b[0;34m,\u001b[0m \u001b[0mexception_flag\u001b[0m\u001b[0;34m\u001b[0m\u001b[0;34m\u001b[0m\u001b[0m\n\u001b[1;32m     37\u001b[0m         ):\n",
            "\u001b[0;32m/usr/local/lib/python3.10/dist-packages/pyomo/opt/solver/shellcmd.py\u001b[0m in \u001b[0;36mavailable\u001b[0;34m(self, exception_flag)\u001b[0m\n\u001b[1;32m    137\u001b[0m             \u001b[0;32mif\u001b[0m \u001b[0mexception_flag\u001b[0m\u001b[0;34m:\u001b[0m\u001b[0;34m\u001b[0m\u001b[0;34m\u001b[0m\u001b[0m\n\u001b[1;32m    138\u001b[0m                 \u001b[0mmsg\u001b[0m \u001b[0;34m=\u001b[0m \u001b[0;34m\"No executable found for solver '%s'\"\u001b[0m\u001b[0;34m\u001b[0m\u001b[0;34m\u001b[0m\u001b[0m\n\u001b[0;32m--> 139\u001b[0;31m                 \u001b[0;32mraise\u001b[0m \u001b[0mApplicationError\u001b[0m\u001b[0;34m(\u001b[0m\u001b[0mmsg\u001b[0m \u001b[0;34m%\u001b[0m \u001b[0mself\u001b[0m\u001b[0;34m.\u001b[0m\u001b[0mname\u001b[0m\u001b[0;34m)\u001b[0m\u001b[0;34m\u001b[0m\u001b[0;34m\u001b[0m\u001b[0m\n\u001b[0m\u001b[1;32m    140\u001b[0m             \u001b[0;32mreturn\u001b[0m \u001b[0;32mFalse\u001b[0m\u001b[0;34m\u001b[0m\u001b[0;34m\u001b[0m\u001b[0m\n\u001b[1;32m    141\u001b[0m         \u001b[0;32mreturn\u001b[0m \u001b[0;32mTrue\u001b[0m\u001b[0;34m\u001b[0m\u001b[0;34m\u001b[0m\u001b[0m\n",
            "\u001b[0;31mApplicationError\u001b[0m: No executable found for solver 'gurobi'"
          ]
        }
      ]
    }
  ]
}